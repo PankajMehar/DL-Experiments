{
 "cells": [
  {
   "cell_type": "markdown",
   "metadata": {},
   "source": [
    "Q1. In homework 1, we have built a deep feedforward neural network with two hidden layers and implemented the stochastic gradient decent (SGD) algorithm to train the network. Based on your codes, replace the ‘sigmoid’ activation functions with ‘relu’ and retrain the model. Compare the results with those in homework 1 (Question 2)."
   ]
  },
  {
   "cell_type": "code",
   "execution_count": 1,
   "metadata": {
    "collapsed": true
   },
   "outputs": [],
   "source": [
    "import numpy as np\n",
    "import math\n",
    "import matplotlib.pyplot as plt\n",
    "import pandas as pd\n",
    "import tensorflow as tf"
   ]
  },
  {
   "cell_type": "code",
   "execution_count": 202,
   "metadata": {
    "collapsed": true
   },
   "outputs": [],
   "source": [
    "# Activation functions\n",
    "def drelu(z):\n",
    "    \"\"\"\n",
    "    Derivate of RELU\n",
    "    \"\"\"\n",
    "    return np.ones((z.shape[0], z.shape[1]))*np.greater(z, 0)\n",
    "    \n",
    "def relu(z):\n",
    "    return np.maximum(0, z)\n",
    "    \n",
    "def sigmoid(z):\n",
    "  return 1 / (1 + np.exp(-1*z))\n",
    "\n",
    "def softmax(z):\n",
    "    return (np.exp(z) / np.sum(np.exp(z)))"
   ]
  },
  {
   "cell_type": "code",
   "execution_count": 215,
   "metadata": {
    "collapsed": true
   },
   "outputs": [],
   "source": [
    "# Helper function to predict an output (0 or 1) and compute accuracy\n",
    "def predict(model, x, dropout=False, pdrop=(1/3), droput=False):\n",
    "    W1, W2, W3 = model['W1'], model['W2'], model['W3']\n",
    "    if dropout:\n",
    "        W1 = W1*(1-pdrop)\n",
    "        W2 = W2*(1-pdrop)\n",
    "        W3 = W3*(1-pdrop)\n",
    "        \n",
    "    confusion_matrix=[[0,0],[0,0]]\n",
    "    # Testing the model\n",
    "    accuracy = 0\n",
    "    for i, X in enumerate(test_data, 0):\n",
    "        X = np.reshape(X, (1, 2))\n",
    "        y = np.reshape(test_labels[i, :], (1,2))\n",
    "        z1 = X.dot(W1)\n",
    "        a1 = sigmoid(z1)\n",
    "        z2 = a1.dot(W2)\n",
    "        if dropout:\n",
    "            z2 = z2*(1-pdrop)\n",
    "        a2 = sigmoid(z2)\n",
    "        z3 = a2.dot(W3)\n",
    "        exp_scores = np.exp(z3)\n",
    "        probs = exp_scores / np.sum(exp_scores, axis=1, keepdims=True)\n",
    "        idx = np.argmax(probs, axis=1)\n",
    "        accuracy+=y[0, idx]\n",
    "        \n",
    "        ix = idx.astype(bool)\n",
    "        l = y[0].astype(bool)\n",
    "        \n",
    "        if l[0]:\n",
    "            if not ix[0]:\n",
    "                confusion_matrix[0][0] +=1\n",
    "            else:\n",
    "                confusion_matrix[0][1] +=1\n",
    "        elif l[1]:\n",
    "            if ix[0]:\n",
    "                confusion_matrix[1][1] +=1\n",
    "            else:\n",
    "                confusion_matrix[1][0]+=1\n",
    "\n",
    "    return confusion_matrix, (accuracy/test_data.shape[0]*100)\n"
   ]
  },
  {
   "cell_type": "code",
   "execution_count": 204,
   "metadata": {
    "collapsed": true
   },
   "outputs": [],
   "source": [
    "# This function learns parameters for the neural network and returns the model.\n",
    "def build_model(train_data, labels, input_dim, hidden_dim, output_dim, epochs=1):\n",
    "    \"\"\"\n",
    "    train_data: training data\n",
    "    labels: training data labels in one-hot vector format\n",
    "    input_dim: 2 in our case\n",
    "    hidden_dim: 3 in our case\n",
    "    output_dim: 2 in our case\n",
    "    epochs: no. of passes through the training data\n",
    "    \"\"\"\n",
    "    # Initialize the parameters to random values. We need to learn these.\n",
    "    np.random.seed(0)\n",
    "    W1 = np.random.randn(input_dim, hidden_dim) / np.sqrt(input_dim)\n",
    "    W2 = np.random.randn(hidden_dim, hidden_dim) / np.sqrt(hidden_dim)\n",
    "    W3 = np.random.randn(hidden_dim, output_dim) / np.sqrt(hidden_dim)\n",
    "\n",
    "    # This is what we return at the end\n",
    "    model = {}\n",
    "\n",
    "    # Gradient descent. For each batch...\n",
    "    for epoch in range(0, epochs):\n",
    "        print(\"Training for epoch: {}\".format(epoch+1))\n",
    "        for i, X in enumerate(train_data):\n",
    "\n",
    "            # Forward propagation\n",
    "            X = np.reshape(X, (1, 2))\n",
    "            y = np.reshape(labels[i, :], (1,2))\n",
    "            z1 = X.dot(W1)\n",
    "\n",
    "            a1 = relu(z1)\n",
    "            z2 = a1.dot(W2)\n",
    "\n",
    "            a2 = relu(z2)\n",
    "            z3 = a2.dot(W3)\n",
    "\n",
    "            # softmax\n",
    "            exp_scores = np.exp(z3)\n",
    "            probs = exp_scores / np.sum(exp_scores, axis=1, keepdims=True)\n",
    "            ones = np.ones(exp_scores.shape)\n",
    "\n",
    "            # loss for one example             \n",
    "            loss = np.sum((y-exp_scores)*(y-exp_scores))\n",
    "#             print('Training loss: {}'.format(loss))\n",
    "            \n",
    "            # derivate of softmax w.r.t its inputs z3\n",
    "            dsoftmax = ones*(np.prod(exp_scores)/(np.sum(exp_scores)*np.sum(exp_scores)))\n",
    "\n",
    "            # Backpropogation\n",
    "            dy = dsoftmax*2*(probs-y)\n",
    "            delta3 = drelu(z2)*dy.dot(W3.T)\n",
    "            delta2 = drelu(z1)*delta3.dot(W2.T)\n",
    "\n",
    "\n",
    "            # gradients of Loss w.r.t model parameters             \n",
    "            dW3 = (a2.T).dot(dy)\n",
    "            dW2 = (a1.T).dot(delta3)\n",
    "            dW1 = np.dot(X.T, delta2)\n",
    "\n",
    "            # Gradient descent parameter update\n",
    "            W1 += -epsilon * dW1\n",
    "            W2 += -epsilon * dW2\n",
    "            W3+= -epsilon * dW3\n",
    "\n",
    "    model = { 'W1': W1, 'W2': W2, 'W3': W3}\n",
    "    return model"
   ]
  },
  {
   "cell_type": "code",
   "execution_count": 205,
   "metadata": {
    "collapsed": true
   },
   "outputs": [],
   "source": [
    "def process_labels(data):\n",
    "    labels = np.ndarray((data.shape[0], 2), dtype=float)\n",
    "    for i,label in enumerate(data.iloc[:, 2]):\n",
    "        if label == 1:\n",
    "            labels[i,0] = 0\n",
    "            labels[i,1] = 1\n",
    "        elif label == 0:\n",
    "            labels[i,0] = 1\n",
    "            labels[i,1] = 0\n",
    "    return labels"
   ]
  },
  {
   "cell_type": "code",
   "execution_count": 208,
   "metadata": {},
   "outputs": [
    {
     "name": "stdout",
     "output_type": "stream",
     "text": [
      "Training for epoch: 1\n",
      "Confusion Matrix: [[500, 0], [1, 499]]\n",
      "Test accuracy: 99.9%\n"
     ]
    }
   ],
   "source": [
    "train_data = pd.read_csv('train_data.txt') # note remove spaces around the header column in train_data.txt and test_data.txt\n",
    "train_data = train_data.sample(frac=1) # shuffle the training examples\n",
    "train_labels = process_labels(train_data)\n",
    "train_data.drop(['class'], axis = 1, inplace = True)\n",
    "train_data = train_data.values\n",
    "\n",
    "num_examples = len(train_data) # training set size\n",
    "nn_input_dim = 2 # input layer dimensionality\n",
    "nn_output_dim = 2 # output layer dimensionality\n",
    "\n",
    "epsilon = 0.1 # learning rate for gradient descent\n",
    "\n",
    "\n",
    "# Build a model with a 3-dimensional hidden layer\n",
    "model = build_model(train_data, train_labels,  2, 3, 2, epochs=1)\n",
    "\n",
    "# read test data\n",
    "test_data = pd.read_csv('test_data.txt')\n",
    "test_data = test_data.sample(frac=1)\n",
    "test_labels = process_labels(test_data)\n",
    "test_data.drop(['class'], axis = 1, inplace = True)\n",
    "test_data = test_data.values\n",
    "\n",
    "\n",
    "confusion_matrix_1, accuracy = predict(model, test_data)\n",
    "# Test model\n",
    "# printing test accuracy\n",
    "print(\"Confusion Matrix: {}\".format(confusion_matrix_1))\n",
    "print(\"Test accuracy: {}%\".format(accuracy[0]))"
   ]
  },
  {
   "cell_type": "markdown",
   "metadata": {},
   "source": [
    "The accuracy doesn't seem to change"
   ]
  },
  {
   "cell_type": "markdown",
   "metadata": {},
   "source": [
    "Q1.b Suppose the dropout rate of neurons for layer 2 is 1/3, which means only two out of three neurons will be kept during the training for each batch, where the batch size is 1. Implement the backpropagation and train the network. Show the performance on the Test Data.\n"
   ]
  },
  {
   "cell_type": "code",
   "execution_count": null,
   "metadata": {
    "collapsed": true
   },
   "outputs": [],
   "source": [
    "pdropout = 1/3"
   ]
  },
  {
   "cell_type": "code",
   "execution_count": 210,
   "metadata": {
    "collapsed": true
   },
   "outputs": [],
   "source": [
    "# This function learns parameters for the neural network and returns the model.\n",
    "def build_model_dropout(train_data, labels, input_dim, hidden_dim, output_dim, epochs=3, pdrop=(1/3)):\n",
    "    \"\"\"\n",
    "    train_data: training data\n",
    "    labels: training data labels in one-hot vector format\n",
    "    input_dim: 2 in our case\n",
    "    hidden_dim: 3 in our case\n",
    "    output_dim: 2 in our case\n",
    "    epochs: no. of passes through the training data\n",
    "    \"\"\"\n",
    "    # Initialize the parameters to random values. We need to learn these.\n",
    "    np.random.seed(0)\n",
    "    W1 = np.random.randn(input_dim, hidden_dim) / np.sqrt(input_dim)\n",
    "    W2 = np.random.randn(hidden_dim, hidden_dim) / np.sqrt(hidden_dim)\n",
    "    W3 = np.random.randn(hidden_dim, output_dim) / np.sqrt(hidden_dim)\n",
    "\n",
    "    # This is what we return at the end\n",
    "    model = {}\n",
    "\n",
    "    # Gradient descent. For each batch...\n",
    "    for epoch in range(0, epochs):\n",
    "        loss = 0\n",
    "        print(\"Training for epoch: {}\".format(epoch+1))\n",
    "        for i, X in enumerate(train_data):\n",
    "\n",
    "            # Forward propagation\n",
    "            X = np.reshape(X, (1, 2))\n",
    "            y = np.reshape(labels[i, :], (1,2))\n",
    "            z1 = X.dot(W1)\n",
    "#             a1 = sigmoid(z1)\n",
    "            a1 = relu(z1)\n",
    "            z2 = a1.dot(W2)\n",
    "            a2 = sigmoid(z2)\n",
    "            \n",
    "            # keep neurons with probability 1-pdrop        \n",
    "            a2 = a2*np.random.binomial([np.ones((len(a2),hidden_dim))],1-pdrop)[0]\n",
    "        \n",
    "            a2 = relu(z2)\n",
    "            z3 = a2.dot(W3)\n",
    "\n",
    "            # softmax\n",
    "            exp_scores = np.exp(z3)\n",
    "            probs = exp_scores / np.sum(exp_scores, axis=1, keepdims=True)\n",
    "            ones = np.ones(exp_scores.shape)\n",
    "\n",
    "            # loss for one example  \n",
    "            loss += np.sum((exp_scores-y)*(exp_scores-y))\n",
    "            \n",
    "            \n",
    "            # derivate of softmax w.r.t its inputs z3\n",
    "            dsoftmax = ones*(np.prod(exp_scores)/(np.sum(exp_scores)*np.sum(exp_scores)))\n",
    "\n",
    "            # Backpropogation\n",
    "            dy = dsoftmax*2*(probs-y)\n",
    "            delta3 = drelu(z2)*dy.dot(W3.T)\n",
    "            delta2 = drelu(z1)*delta3.dot(W2.T)\n",
    "#             delta3 = sigmoid(z2)*(1-sigmoid(z2))*dy.dot(W3.T)\n",
    "#             delta2 = sigmoid(z1)*(1-sigmoid(z1))*delta3.dot(W2.T)\n",
    "\n",
    "            # gradients of Loss w.r.t model parameters             \n",
    "            dW3 = (a2.T).dot(dy)\n",
    "            dW2 = (a1.T).dot(delta3)\n",
    "            dW1 = np.dot(X.T, delta2)\n",
    "\n",
    "            # Gradient descent parameter update\n",
    "            W1 += -epsilon * dW1\n",
    "            W2 += -epsilon * dW2\n",
    "            W3+= -epsilon * dW3\n",
    "\n",
    "        print('loss for epoch {}: {}'.format(epoch, loss))\n",
    "    model = { 'W1': W1, 'W2': W2, 'W3': W3}\n",
    "    return model\n",
    "\n"
   ]
  },
  {
   "cell_type": "code",
   "execution_count": 220,
   "metadata": {},
   "outputs": [
    {
     "name": "stdout",
     "output_type": "stream",
     "text": [
      "Training for epoch: 1\n",
      "loss for epoch 0: 4646906099560906.0\n",
      "Training for epoch: 2\n",
      "loss for epoch 1: 1.3029933788151919e+19\n",
      "Confusion Matrix: [[497, 3], [0, 500]]\n",
      "Test accuracy: 99.7%\n"
     ]
    }
   ],
   "source": [
    "# Build a model using droput probability pdrop\n",
    "model = build_model_dropout(train_data, train_labels,  2, 3, 2, epochs=2, pdrop=(1/3))\n",
    "\n",
    "confusion_matrix_1, accuracy = predict(model, test_data, dropout=True)\n",
    "# Test model\n",
    "# printing test accuracy\n",
    "print(\"Confusion Matrix: {}\".format(confusion_matrix_1))\n",
    "print(\"Test accuracy: {}%\".format(accuracy[0]))"
   ]
  },
  {
   "cell_type": "markdown",
   "metadata": {},
   "source": [
    "After using droput the test accuracy seems to decrease a little bit"
   ]
  },
  {
   "cell_type": "markdown",
   "metadata": {
    "collapsed": true
   },
   "source": [
    "### Q3. RNN"
   ]
  },
  {
   "cell_type": "code",
   "execution_count": 2,
   "metadata": {
    "collapsed": true
   },
   "outputs": [],
   "source": [
    "# PREPROCESS\n",
    "def idx_to_word(words_to_idx):\n",
    "    idx_to_words = {}\n",
    "    for word, idx in words_to_idx:\n",
    "        idx_to_words[idx] = word\n",
    "    \n",
    "    return idx_to_words\n",
    "    \n",
    "    \n",
    "def word_to_idx(words):\n",
    "    words_to_idx = {}\n",
    "    for i, word in enumerate(words):\n",
    "        words_to_idx[word] = i\n",
    "    \n",
    "    return words_to_idx"
   ]
  },
  {
   "cell_type": "code",
   "execution_count": 3,
   "metadata": {
    "collapsed": true
   },
   "outputs": [],
   "source": [
    "maxSeqLength = 100\n",
    "numDimensions = 50\n",
    "trd = pd.read_csv('sentiment-data/train.csv', header=None)\n",
    "ted = pd.read_csv('sentiment-data/test.csv', header=None)\n",
    "numTrainExamples = trd.shape[0]\n",
    "numTestExamples  = ted.shape[0]"
   ]
  },
  {
   "cell_type": "code",
   "execution_count": 4,
   "metadata": {
    "collapsed": true
   },
   "outputs": [],
   "source": [
    "wvfile = pd.read_csv('word-vectors-refine.txt', header=None)\n",
    "wordVectors = wvfile[wvfile.columns.difference([0])].values"
   ]
  },
  {
   "cell_type": "code",
   "execution_count": 5,
   "metadata": {
    "collapsed": true
   },
   "outputs": [],
   "source": [
    "words = wvfile[0].values\n",
    "wordsList = words.tolist()"
   ]
  },
  {
   "cell_type": "code",
   "execution_count": 6,
   "metadata": {
    "collapsed": true
   },
   "outputs": [],
   "source": [
    "idsMatrix = np.zeros((numTrainExamples, maxSeqLength), dtype=int)"
   ]
  },
  {
   "cell_type": "code",
   "execution_count": 7,
   "metadata": {
    "collapsed": true
   },
   "outputs": [],
   "source": [
    "words_to_id = word_to_idx(wordsList)"
   ]
  },
  {
   "cell_type": "code",
   "execution_count": 8,
   "metadata": {
    "collapsed": true
   },
   "outputs": [],
   "source": [
    "for c, review in trd.iterrows():\n",
    "    for i, word in enumerate(review[1].split(' ')):\n",
    "        try:\n",
    "            idsMatrix[c][i] = words_to_id[word]\n",
    "        except KeyError as e:\n",
    "            idsMatrix[c][i] = 399999 #Vector for unkown words"
   ]
  },
  {
   "cell_type": "code",
   "execution_count": 9,
   "metadata": {
    "collapsed": true
   },
   "outputs": [],
   "source": [
    "idsMatrixTest = np.zeros((ted.shape[0], maxSeqLength), dtype=int)\n",
    "for c, review in ted.iterrows():\n",
    "    for i, word in enumerate(review[1].split(' ')):\n",
    "        try:\n",
    "            idsMatrixTest[c][i] = words_to_id[word]\n",
    "        except KeyError as e:\n",
    "            idsMatrixTest[c][i] = 399999 #Vector for unkown words"
   ]
  },
  {
   "cell_type": "code",
   "execution_count": 10,
   "metadata": {
    "collapsed": true
   },
   "outputs": [],
   "source": [
    "# Helper functions\n",
    "from random import randint\n",
    "\n",
    "def getTrainBatch():\n",
    "    labels = []\n",
    "    arr = np.zeros([batchSize, maxSeqLength])\n",
    "    for i in range(batchSize):\n",
    "        num = randint(1,20000)\n",
    "        if trd.iloc[num, 0] == 'positive':\n",
    "            labels.append([1,0])\n",
    "        else:\n",
    "            labels.append([0,1])\n",
    "        arr[i] = idsMatrix[num-1:num]\n",
    "    return arr, labels\n",
    "\n",
    "def getTestBatch(batch_size=24):\n",
    "    \"\"\"\n",
    "    Returns the entire training data\n",
    "    \"\"\"\n",
    "    labels = []\n",
    "    arr = np.zeros([batchSize, maxSeqLength])\n",
    "    for i in range(batchSize):\n",
    "        if ted.iloc[i, 0] == 'positive':\n",
    "            labels.append([1,0])\n",
    "        else:\n",
    "            labels.append([0,1])\n",
    "        arr[i] = idsMatrixTest[i]\n",
    "    return arr, labels"
   ]
  },
  {
   "cell_type": "code",
   "execution_count": 11,
   "metadata": {
    "collapsed": true
   },
   "outputs": [],
   "source": [
    "# some constants\n",
    "batchSize = 24\n",
    "lstmUnits = 64\n",
    "rnnUnits = 64\n",
    "gruUnits = 64\n",
    "numClasses = 2\n",
    "iterations = 50"
   ]
  },
  {
   "cell_type": "code",
   "execution_count": 12,
   "metadata": {
    "collapsed": true
   },
   "outputs": [],
   "source": [
    "# tf.reset_default_graph()\n",
    "labels = tf.placeholder(tf.float32, [batchSize, numClasses])\n",
    "input_data = tf.placeholder(tf.int32, [batchSize, maxSeqLength])\n",
    "\n",
    "data = tf.Variable(tf.zeros([batchSize, maxSeqLength, numDimensions]),dtype=tf.float32)\n",
    "data = tf.nn.embedding_lookup(wordVectors,input_data)"
   ]
  },
  {
   "cell_type": "code",
   "execution_count": 13,
   "metadata": {
    "collapsed": true
   },
   "outputs": [],
   "source": [
    "# Uncomment the appropriate code for lstm, rnn and gru cells respectively\n",
    "\n",
    "# lstmCell = tf.contrib.rnn.BasicLSTMCell(lstmUnits)\n",
    "# lstmCell = tf.contrib.rnn.DropoutWrapper(cell=lstmCell, output_keep_prob=0.75)\n",
    "# value, _ = tf.nn.dynamic_rnn(lstmCell, data, dtype=tf.float64)\n",
    "\n",
    "# rnnCell = tf.contrib.rnn.BasicRNNCell(rnnUnits)\n",
    "# rnnCell = tf.contrib.rnn.DropoutWrapper(cell=rnnCell, output_keep_prob=0.75)\n",
    "# value, _ = tf.nn.dynamic_rnn(rnnCell, data, dtype=tf.float64)\n",
    "\n",
    "gruCell = tf.contrib.rnn.GRUCell(gruUnits)\n",
    "gruCell = tf.contrib.rnn.DropoutWrapper(cell=gruCell, output_keep_prob=0.75)\n",
    "value, _ = tf.nn.dynamic_rnn(gruCell, data, dtype=tf.float64)"
   ]
  },
  {
   "cell_type": "code",
   "execution_count": 14,
   "metadata": {
    "collapsed": true
   },
   "outputs": [],
   "source": [
    "weight = tf.Variable(tf.truncated_normal([lstmUnits, numClasses]))\n",
    "bias = tf.Variable(tf.constant(0.1, shape=[numClasses]))\n",
    "value = tf.transpose(value, [1, 0, 2])\n",
    "last = tf.gather(value, int(value.get_shape()[0]) - 1)\n",
    "prediction = (tf.matmul(tf.cast(last, tf.float32), weight) + bias)"
   ]
  },
  {
   "cell_type": "code",
   "execution_count": 15,
   "metadata": {
    "collapsed": true
   },
   "outputs": [],
   "source": [
    "correctPred = tf.equal(tf.argmax(prediction,1), tf.argmax(labels,1))\n",
    "accuracy = tf.reduce_mean(tf.cast(correctPred, tf.float32))\n",
    "loss = tf.reduce_mean(tf.nn.softmax_cross_entropy_with_logits(logits=prediction, labels=labels))\n",
    "optimizer = tf.train.AdamOptimizer().minimize(loss)"
   ]
  },
  {
   "cell_type": "code",
   "execution_count": 16,
   "metadata": {},
   "outputs": [
    {
     "name": "stdout",
     "output_type": "stream",
     "text": [
      "step 0, training accuracy 0.333333\n",
      "step 0, training loss 2.49366\n",
      "step 10, training accuracy 1\n",
      "step 10, training loss 0.00174457\n",
      "step 20, training accuracy 1\n",
      "step 20, training loss 0.000111203\n",
      "step 30, training accuracy 1\n",
      "step 30, training loss 3.41636e-05\n",
      "step 40, training accuracy 1\n",
      "step 40, training loss 0.000479253\n",
      "test accuracy 1\n"
     ]
    }
   ],
   "source": [
    "with tf.Session() as sess:\n",
    "    sess.run(tf.global_variables_initializer())\n",
    "    saver = tf.train.Saver()\n",
    "    for i in range(iterations):\n",
    "       #Next Batch of reviews\n",
    "        nextBatch, nextBatchLabels = getTrainBatch()\n",
    "        if i%10==0:\n",
    "            train_accuracy = accuracy.eval(feed_dict={input_data: nextBatch, labels: nextBatchLabels})\n",
    "            print('step %d, training accuracy %g' % (i, train_accuracy))\n",
    "            print('step %d, training loss %g' % (i, \n",
    "                loss.eval(feed_dict={input_data: nextBatch, labels: nextBatchLabels})))\n",
    "        optimizer.run(feed_dict={input_data: nextBatch, labels: nextBatchLabels})\n",
    "           \n",
    "    testBatch, testLabels = getTestBatch(batch_size=5000)\n",
    "    print('test accuracy %g' % accuracy.eval(feed_dict={input_data: testBatch, labels: testLabels}))\n",
    "    "
   ]
  },
  {
   "cell_type": "markdown",
   "metadata": {},
   "source": [
    "## Q2 . CNN"
   ]
  },
  {
   "cell_type": "code",
   "execution_count": 26,
   "metadata": {},
   "outputs": [
    {
     "name": "stdout",
     "output_type": "stream",
     "text": [
      "Extracting MNIST_data/train-images-idx3-ubyte.gz\n",
      "Extracting MNIST_data/train-labels-idx1-ubyte.gz\n",
      "Extracting MNIST_data/t10k-images-idx3-ubyte.gz\n",
      "Extracting MNIST_data/t10k-labels-idx1-ubyte.gz\n"
     ]
    }
   ],
   "source": [
    "# MNIST dataset\n",
    "\n",
    "from tensorflow.examples.tutorials.mnist import input_data\n",
    "mnist = input_data.read_data_sets('MNIST_data', one_hot=True)"
   ]
  },
  {
   "cell_type": "code",
   "execution_count": 27,
   "metadata": {
    "collapsed": true
   },
   "outputs": [],
   "source": [
    "import tensorflow as tf\n",
    "sess = tf.InteractiveSession()"
   ]
  },
  {
   "cell_type": "code",
   "execution_count": 2,
   "metadata": {
    "collapsed": true
   },
   "outputs": [],
   "source": [
    "# utility functions to create weight variables\n",
    "def weight_variable(shape):\n",
    "  initial = tf.truncated_normal(shape, stddev=0.1)\n",
    "  return tf.Variable(initial)\n",
    "\n",
    "def bias_variable(shape):\n",
    "  initial = tf.constant(0.1, shape=shape)\n",
    "  return tf.Variable(initial)"
   ]
  },
  {
   "cell_type": "code",
   "execution_count": 3,
   "metadata": {
    "collapsed": true
   },
   "outputs": [],
   "source": [
    "# define convolution and max pooling operations\n",
    "def conv2d(x, W):\n",
    "  return tf.nn.conv2d(x, W, strides=[1, 1, 1, 1], padding='VALID')\n",
    "\n",
    "def max_pool_2x2(x):\n",
    "  return tf.nn.max_pool(x, ksize=[1, 2, 2, 1],\n",
    "                        strides=[1, 2, 2, 1], padding='VALID')"
   ]
  },
  {
   "cell_type": "code",
   "execution_count": 10,
   "metadata": {
    "collapsed": true
   },
   "outputs": [],
   "source": [
    "x = tf.placeholder(tf.float32, shape=[None, 784])\n",
    "y_ = tf.placeholder(tf.float32, shape=[None, 10])"
   ]
  },
  {
   "cell_type": "code",
   "execution_count": 11,
   "metadata": {
    "collapsed": true
   },
   "outputs": [],
   "source": [
    "# conv1 layer 3x3 stride=1, padding=None, input channels=1, output channels=32\n",
    "W_conv1 = weight_variable([3, 3, 1, 32])\n",
    "b_conv1 = bias_variable([32])\n",
    "\n",
    "# reshape the image\n",
    "x_image = tf.reshape(x, [-1, 28, 28, 1])\n",
    "h_conv1 = tf.nn.relu(conv2d(x_image, W_conv1) + b_conv1)\n",
    "\n",
    "# pool 1\n",
    "h_pool1 = max_pool_2x2(h_conv1)"
   ]
  },
  {
   "cell_type": "code",
   "execution_count": 12,
   "metadata": {
    "collapsed": true
   },
   "outputs": [],
   "source": [
    "# conv2 layer 5x5, stride=1, padding=None, input channels = 32, output channels=64\n",
    "W_conv2 = weight_variable([5,5,32,64])\n",
    "b_conv2 = bias_variable([64])\n",
    "\n",
    "h_conv2 = tf.nn.relu(conv2d(h_pool1, W_conv2)+ b_conv2)\n",
    "\n",
    "# pool 2\n",
    "h_pool2 = max_pool_2x2(h_conv2)"
   ]
  },
  {
   "cell_type": "code",
   "execution_count": 13,
   "metadata": {
    "collapsed": true
   },
   "outputs": [],
   "source": [
    "# FC layer with 1024 neurons\n",
    "W_fc1 = weight_variable([4 * 4 * 64, 1024])\n",
    "b_fc1 = bias_variable([1024])\n",
    "\n",
    "h_pool2_flat = tf.reshape(h_pool2, [-1, 4*4*64])\n",
    "h_fc1 = tf.nn.relu(tf.matmul(h_pool2_flat, W_fc1) + b_fc1)"
   ]
  },
  {
   "cell_type": "code",
   "execution_count": 14,
   "metadata": {
    "collapsed": true
   },
   "outputs": [],
   "source": [
    "keep_prob = tf.placeholder(tf.float32)\n",
    "h_fc1_drop = tf.nn.dropout(h_fc1, keep_prob)"
   ]
  },
  {
   "cell_type": "code",
   "execution_count": 1,
   "metadata": {},
   "outputs": [
    {
     "ename": "NameError",
     "evalue": "name 'weight_variable' is not defined",
     "output_type": "error",
     "traceback": [
      "\u001b[0;31m---------------------------------------------------------------------------\u001b[0m",
      "\u001b[0;31mNameError\u001b[0m                                 Traceback (most recent call last)",
      "\u001b[0;32m<ipython-input-1-89801f254ffb>\u001b[0m in \u001b[0;36m<module>\u001b[0;34m()\u001b[0m\n\u001b[0;32m----> 1\u001b[0;31m \u001b[0mW_fc2\u001b[0m \u001b[0;34m=\u001b[0m \u001b[0mweight_variable\u001b[0m\u001b[0;34m(\u001b[0m\u001b[0;34m[\u001b[0m\u001b[0;36m1024\u001b[0m\u001b[0;34m,\u001b[0m \u001b[0;36m10\u001b[0m\u001b[0;34m]\u001b[0m\u001b[0;34m)\u001b[0m\u001b[0;34m\u001b[0m\u001b[0m\n\u001b[0m\u001b[1;32m      2\u001b[0m \u001b[0mb_fc2\u001b[0m \u001b[0;34m=\u001b[0m \u001b[0mbias_variable\u001b[0m\u001b[0;34m(\u001b[0m\u001b[0;34m[\u001b[0m\u001b[0;36m10\u001b[0m\u001b[0;34m]\u001b[0m\u001b[0;34m)\u001b[0m\u001b[0;34m\u001b[0m\u001b[0m\n\u001b[1;32m      3\u001b[0m \u001b[0;34m\u001b[0m\u001b[0m\n\u001b[1;32m      4\u001b[0m \u001b[0my_conv\u001b[0m \u001b[0;34m=\u001b[0m \u001b[0mtf\u001b[0m\u001b[0;34m.\u001b[0m\u001b[0mmatmul\u001b[0m\u001b[0;34m(\u001b[0m\u001b[0mh_fc1_drop\u001b[0m\u001b[0;34m,\u001b[0m \u001b[0mW_fc2\u001b[0m\u001b[0;34m)\u001b[0m \u001b[0;34m+\u001b[0m \u001b[0mb_fc2\u001b[0m\u001b[0;34m\u001b[0m\u001b[0m\n",
      "\u001b[0;31mNameError\u001b[0m: name 'weight_variable' is not defined"
     ]
    }
   ],
   "source": [
    "W_fc2 = weight_variable([1024, 10])\n",
    "b_fc2 = bias_variable([10])\n",
    "\n",
    "y_conv = tf.matmul(h_fc1_drop, W_fc2) + b_fc2"
   ]
  },
  {
   "cell_type": "code",
   "execution_count": 16,
   "metadata": {
    "collapsed": true,
    "scrolled": false
   },
   "outputs": [],
   "source": [
    "def train_model():\n",
    "    cross_entropy = tf.reduce_mean(\n",
    "        tf.nn.softmax_cross_entropy_with_logits(labels=y_, logits=y_conv))\n",
    "    train_step = tf.train.AdamOptimizer(1e-4).minimize(cross_entropy)\n",
    "    correct_label = tf.argmax(y_, 1)\n",
    "    prediction = tf.argmax(y_conv, 1)\n",
    "    correct_prediction = tf.equal(tf.argmax(y_conv, 1), tf.argmax(y_, 1))\n",
    "    accuracy = tf.reduce_mean(tf.cast(correct_prediction, tf.float32))\n",
    "    \n",
    "    # create arrays for visualizing images\n",
    "    images = np.zeros((9, 784))\n",
    "    labels = np.zeros((9,2))\n",
    "    \n",
    "    with tf.Session() as sess:\n",
    "        sess.run(tf.global_variables_initializer())\n",
    "        for i in range(1):\n",
    "            batch = mnist.train.next_batch(50)\n",
    "            if i % 10 == 0:\n",
    "                train_accuracy = accuracy.eval(feed_dict={x: batch[0], y_: batch[1], keep_prob: 1.0})\n",
    "                print('step %d, training accuracy %g' % (i, train_accuracy))\n",
    "            train_step.run(feed_dict={x: batch[0], y_: batch[1], keep_prob: 0.5})\n",
    "\n",
    "        print('test accuracy %g' % accuracy.eval(feed_dict={\n",
    "          x: mnist.test.images, y_: mnist.test.labels, keep_prob: 1.0}))\n",
    "        \n",
    "        \n",
    "        for i in range(9):\n",
    "            image, label = mnist.test.next_batch(1)\n",
    "            images[i] = image\n",
    "        # get correct predictions and correct labels for 9 MNIST images\n",
    "            labels[i][0] = prediction.eval( {x: image, y_: label, keep_prob: 1.0})\n",
    "            labels[i][1] = correct_label.eval( {x: image, y_: label, keep_prob: 1.0})\n",
    "            \n",
    "    return images, labels"
   ]
  },
  {
   "cell_type": "markdown",
   "metadata": {},
   "source": [
    "Accuracies of MNIST when trained for 20000 iterations"
   ]
  },
  {
   "cell_type": "code",
   "execution_count": 79,
   "metadata": {},
   "outputs": [
    {
     "name": "stdout",
     "output_type": "stream",
     "text": [
      "step 0, training accuracy 0.1\n",
      "test accuracy 0.0744\n"
     ]
    }
   ],
   "source": [
    "images, labels = train_model()"
   ]
  },
  {
   "cell_type": "code",
   "execution_count": 85,
   "metadata": {
    "scrolled": true
   },
   "outputs": [
    {
     "data": {
      "image/png": "[encoded data removed]",
      "text/plain": [
       "<matplotlib.figure.Figure at 0x1295adba8>"
      ]
     },
     "metadata": {},
     "output_type": "display_data"
    }
   ],
   "source": [
    "# Visualizing MNIST images and predicted and correct labels\n",
    "fig, axs = plt.subplots(3, 3, sharex=True, sharey=True, figsize=(10,10))\n",
    "k=0\n",
    "for i in range(3):\n",
    "    for j in range(3):\n",
    "        axs[i,j].imshow(np.reshape(images[k], (28, 28)))\n",
    "        axs[i,j].set_title('Predicted: {}, Actual {}'.format(int(labels[k][0]), int(labels[k][1])))\n",
    "        k+=1\n",
    "\n",
    "plt.show()"
   ]
  },
  {
   "cell_type": "markdown",
   "metadata": {},
   "source": [
    "### Train on CIFAR100"
   ]
  },
  {
   "cell_type": "code",
   "execution_count": 4,
   "metadata": {
    "collapsed": true
   },
   "outputs": [],
   "source": [
    "from tensorflow.contrib.keras.python.keras.datasets import cifar100\n",
    "train, test = cifar100.load_data(label_mode='fine')\n",
    "train_X, train_Y = train[0], train[1]\n",
    "test_X, test_Y = test[0], test[1]"
   ]
  },
  {
   "cell_type": "code",
   "execution_count": 5,
   "metadata": {
    "collapsed": true
   },
   "outputs": [],
   "source": [
    "train_X = np.reshape(train_X, (train_X.shape[0], 32*32, 3))\n",
    "test_X = np.reshape(test_X, (test_X.shape[0], 32*32, 3))"
   ]
  },
  {
   "cell_type": "code",
   "execution_count": 6,
   "metadata": {
    "collapsed": true
   },
   "outputs": [],
   "source": [
    "# convert test labels to one-hot vectors\n",
    "train_Y = np.eye(100)[train_Y]\n",
    "train_Y = np.reshape(train_Y, (train_Y.shape[0], 100))\n",
    "\n",
    "test_Y = np.eye(100)[test_Y]\n",
    "test_Y = np.reshape(test_Y, (test_Y.shape[0], 100))\n",
    "\n",
    "\n",
    "i = np.random.randint(0, 10000)\n",
    "viz_image = test_X[i]\n",
    "viz_label = test_Y[i]"
   ]
  },
  {
   "cell_type": "code",
   "execution_count": 7,
   "metadata": {
    "collapsed": true
   },
   "outputs": [],
   "source": [
    "x = tf.placeholder(tf.float32, shape=[None, 1024, 3])\n",
    "y_ = tf.placeholder(tf.float32, shape=[None, 100])\n",
    "\n",
    "# conv1 layer 3x3 stride=1, padding=None, input channels=3, output channels=32\n",
    "W_conv1 = weight_variable([3, 3, 3, 32])\n",
    "b_conv1 = bias_variable([32])\n",
    "\n",
    "# reshape the image\n",
    "x_image = tf.reshape(x, [-1, 32, 32, 3])\n",
    "h_conv1 = tf.nn.relu(conv2d(x_image, W_conv1) + b_conv1)\n",
    "\n",
    "# pool 1\n",
    "h_pool1 = max_pool_2x2(h_conv1)\n",
    "\n",
    "# conv2 layer 5x5, stride=1, padding=None, input channels = 32, output channels=64\n",
    "W_conv2 = weight_variable([5,5,32,64])\n",
    "b_conv2 = bias_variable([64])\n",
    "\n",
    "h_conv2 = tf.nn.relu(conv2d(h_pool1, W_conv2)+ b_conv2)\n",
    "\n",
    "# pool 2\n",
    "h_pool2 = max_pool_2x2(h_conv2)"
   ]
  },
  {
   "cell_type": "code",
   "execution_count": 8,
   "metadata": {},
   "outputs": [
    {
     "data": {
      "text/plain": [
       "TensorShape([Dimension(None), Dimension(5), Dimension(5), Dimension(64)])"
      ]
     },
     "execution_count": 8,
     "metadata": {},
     "output_type": "execute_result"
    }
   ],
   "source": [
    "h_pool2.get_shape()"
   ]
  },
  {
   "cell_type": "code",
   "execution_count": 9,
   "metadata": {
    "collapsed": true
   },
   "outputs": [],
   "source": [
    "# FC layer with 1024 neurons\n",
    "W_fc1 = weight_variable([5 * 5 * 64, 1024])\n",
    "b_fc1 = bias_variable([1024])\n",
    "\n",
    "h_pool2_flat = tf.reshape(h_pool2, [-1, 5*5*64])\n",
    "h_fc1 = tf.nn.relu(tf.matmul(h_pool2_flat, W_fc1) + b_fc1)\n",
    "\n",
    "keep_prob = tf.placeholder(tf.float32)\n",
    "h_fc1_drop = tf.nn.dropout(h_fc1, keep_prob)\n",
    "\n",
    "W_fc2 = weight_variable([1024, 100])\n",
    "b_fc2 = bias_variable([100])\n",
    "\n",
    "y_conv = tf.matmul(h_fc1_drop, W_fc2) + b_fc2"
   ]
  },
  {
   "cell_type": "code",
   "execution_count": 10,
   "metadata": {
    "collapsed": true
   },
   "outputs": [],
   "source": [
    "def minibatch(data, labels, minibatch_idx):\n",
    "    return data[minibatch_idx], labels[minibatch_idx]\n",
    "\n",
    "def get_next_batch(data, labels, minibatch_size=50):\n",
    "    data_size = len(data)\n",
    "    indices = np.arange(data_size)\n",
    "    for minibatch_start in np.arange(0, data_size, minibatch_size):\n",
    "        minibatch_indices = indices[minibatch_start:minibatch_start + minibatch_size]\n",
    "        yield minibatch(data, labels, minibatch_indices)\n",
    "\n",
    "        "
   ]
  },
  {
   "cell_type": "code",
   "execution_count": 18,
   "metadata": {
    "collapsed": true,
    "scrolled": true
   },
   "outputs": [],
   "source": [
    "def train_cifar100():\n",
    "    cross_entropy = tf.reduce_mean(tf.nn.softmax_cross_entropy_with_logits(labels=y_, logits=y_conv))\n",
    "    train_step = tf.train.AdamOptimizer(1e-3).minimize(cross_entropy)\n",
    "    correct_label = tf.argmax(y_, 1)\n",
    "    prediction = tf.argmax(y_conv, 1)\n",
    "    correct_prediction = tf.equal(tf.argmax(y_conv, 1), tf.argmax(y_, 1))\n",
    "    accuracy = tf.reduce_mean(tf.cast(correct_prediction, tf.float32))\n",
    "\n",
    "    with tf.Session() as sess:\n",
    "        sess.run(tf.global_variables_initializer())\n",
    "        for i in range(20):\n",
    "            for batch, labels in get_next_batch(train_X, train_Y, minibatch_size=250):\n",
    "                train_step.run(feed_dict={x: batch, y_: labels, keep_prob: 0.5})\n",
    "            train_accuracy = accuracy.eval(feed_dict={x: batch, y_: labels, keep_prob: 1.0})\n",
    "            print('step %d, training accuracy %g' % (i, train_accuracy))\n",
    "\n",
    "        print('test accuracy %g' % accuracy.eval(feed_dict={x: test_X, y_: test_Y, keep_prob: 1.0}))\n",
    "        \n",
    "        #  hconv1, hconv2 feature maps of first and second convolutional layers       \n",
    "        hconv1 = h_conv1.eval(feed_dict = { x: np.reshape(viz_image, (1, 1024, 3)), y_: np.reshape(viz_label, (1, 100)), keep_prob: 1.0})\n",
    "        hconv2 = h_conv2.eval(feed_dict = { x: np.reshape(viz_image, (1, 1024, 3)), y_: np.reshape(viz_label, (1, 100)), keep_prob: 1.0})\n",
    "                \n",
    "        # Get 9 images and their correct and predicted labels for visualization\n",
    "        images = np.zeros((9, 32*32, 3))\n",
    "        predictions = np.zeros((9))\n",
    "        correct_labels = np.zeros((9))\n",
    "\n",
    "        \n",
    "        for im, label in get_next_batch(test_X, test_Y, minibatch_size=9):\n",
    "            predictions = np.reshape(prediction.eval( {x: im, y_: label, keep_prob: 1.0}), (9,1))\n",
    "            correct_labels = np.reshape(correct_label.eval( {x: im, y_: label, keep_prob: 1.0}), (9,1))\n",
    "            break;\n",
    "        \n",
    "    return hconv1, hcdrivonv2, im, predictions, correct_labels"
   ]
  },
  {
   "cell_type": "code",
   "execution_count": 19,
   "metadata": {},
   "outputs": [
    {
     "name": "stdout",
     "output_type": "stream",
     "text": [
      "step 0, training accuracy 0.004\n",
      "step 1, training accuracy 0.004\n",
      "step 2, training accuracy 0.004\n",
      "step 3, training accuracy 0.012\n",
      "step 4, training accuracy 0.008\n",
      "step 5, training accuracy 0.012\n",
      "step 6, training accuracy 0.008\n",
      "step 7, training accuracy 0.012\n",
      "step 8, training accuracy 0.008\n",
      "step 9, training accuracy 0.004\n",
      "step 10, training accuracy 0.016\n",
      "step 11, training accuracy 0.012\n",
      "step 12, training accuracy 0.016\n",
      "step 13, training accuracy 0.012\n",
      "step 14, training accuracy 0.02\n",
      "step 15, training accuracy 0.012\n",
      "step 16, training accuracy 0.012\n",
      "step 17, training accuracy 0.016\n",
      "step 18, training accuracy 0.02\n",
      "step 19, training accuracy 0.028\n",
      "test accuracy 0.0112\n"
     ]
    }
   ],
   "source": [
    "hconv1, hconv2, im, predictions, correct_labels = train_cifar100()"
   ]
  },
  {
   "cell_type": "markdown",
   "metadata": {},
   "source": [
    "I tried with different learning rates,0.01, 0.0001 and  0.001. 0.001 seemed to perform the best. I did not have enough computational resources to train on CIFAR100 or MNIST on more number of iterations. Clearly accuracy is improving for more iterations."
   ]
  },
  {
   "cell_type": "code",
   "execution_count": 22,
   "metadata": {},
   "outputs": [
    {
     "data": {
      "image/png": "[encoded data removed]",
      "text/plain": [
       "<matplotlib.figure.Figure at 0x1240f5f28>"
      ]
     },
     "metadata": {},
     "output_type": "display_data"
    }
   ],
   "source": [
    "# Image used for visualization\n",
    "plt.figure(figsize=(1,1))\n",
    "plt.imshow(np.reshape(viz_image, (32, 32, 3)))\n",
    "plt.show()"
   ]
  },
  {
   "cell_type": "code",
   "execution_count": 23,
   "metadata": {},
   "outputs": [
    {
     "data": {
      "image/png": "[encoded data removed]",
      "text/plain": [
       "<matplotlib.figure.Figure at 0x1240df080>"
      ]
     },
     "metadata": {},
     "output_type": "display_data"
    }
   ],
   "source": [
    "# Visualizing CIFAR100 feature maps\n",
    "fig, axs = plt.subplots(8, 4, sharex=True, sharey=True)\n",
    "k=0\n",
    "for i in range(8):\n",
    "    for j in range(4):\n",
    "        axs[i,j].imshow(hconv1[0,:,:,k])\n",
    "        k+=1\n",
    "\n",
    "plt.show()"
   ]
  },
  {
   "cell_type": "code",
   "execution_count": 28,
   "metadata": {},
   "outputs": [
    {
     "data": {
      "image/png": "[encoded data removed]",
      "text/plain": [
       "<matplotlib.figure.Figure at 0x125bfb6d8>"
      ]
     },
     "metadata": {},
     "output_type": "display_data"
    }
   ],
   "source": [
    "# Visualizing Cifar100 images and predicted and correct labels\n",
    "fig, axs = plt.subplots(3, 3, sharex=True, sharey=True, figsize=(7,7))\n",
    "k=0\n",
    "for i in range(3):\n",
    "    for j in range(3):\n",
    "        axs[i,j].imshow(np.reshape(im[k], (32, 32, 3)))\n",
    "        axs[i,j].set_title('Pred: {}, Actual: {}'.format(int(predictions[k]), int(correct_labels[k])))\n",
    "        k+=1\n",
    "\n",
    "plt.show()"
   ]
  },
  {
   "cell_type": "code",
   "execution_count": null,
   "metadata": {
    "collapsed": true
   },
   "outputs": [],
   "source": []
  }
 ],
 "metadata": {
  "kernelspec": {
   "display_name": "Python 3",
   "language": "python",
   "name": "python3"
  },
  "language_info": {
   "codemirror_mode": {
    "name": "ipython",
    "version": 3
   },
   "file_extension": ".py",
   "mimetype": "text/x-python",
   "name": "python",
   "nbconvert_exporter": "python",
   "pygments_lexer": "ipython3",
   "version": "3.6.1"
  }
 },
 "nbformat": 4,
 "nbformat_minor": 2
}
